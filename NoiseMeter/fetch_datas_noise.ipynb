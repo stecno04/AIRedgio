{
 "cells": [
  {
   "cell_type": "code",
   "execution_count": 1,
   "metadata": {},
   "outputs": [
    {
     "ename": "NoBackendError",
     "evalue": "No backend available",
     "output_type": "error",
     "traceback": [
      "\u001b[1;31m---------------------------------------------------------------------------\u001b[0m",
      "\u001b[1;31mNoBackendError\u001b[0m                            Traceback (most recent call last)",
      "Cell \u001b[1;32mIn[1], line 9\u001b[0m\n\u001b[0;32m      6\u001b[0m backend \u001b[38;5;241m=\u001b[39m usb\u001b[38;5;241m.\u001b[39mbackend\u001b[38;5;241m.\u001b[39mlibusb1\u001b[38;5;241m.\u001b[39mget_backend()\n\u001b[0;32m      8\u001b[0m \u001b[38;5;66;03m# List USB devices\u001b[39;00m\n\u001b[1;32m----> 9\u001b[0m devices \u001b[38;5;241m=\u001b[39m \u001b[43musb\u001b[49m\u001b[38;5;241;43m.\u001b[39;49m\u001b[43mcore\u001b[49m\u001b[38;5;241;43m.\u001b[39;49m\u001b[43mfind\u001b[49m\u001b[43m(\u001b[49m\u001b[43mfind_all\u001b[49m\u001b[38;5;241;43m=\u001b[39;49m\u001b[38;5;28;43;01mTrue\u001b[39;49;00m\u001b[43m,\u001b[49m\u001b[43m \u001b[49m\u001b[43mbackend\u001b[49m\u001b[38;5;241;43m=\u001b[39;49m\u001b[43mbackend\u001b[49m\u001b[43m)\u001b[49m\n\u001b[0;32m     10\u001b[0m \u001b[38;5;28;01mif\u001b[39;00m devices \u001b[38;5;129;01mis\u001b[39;00m \u001b[38;5;28;01mNone\u001b[39;00m:\n\u001b[0;32m     11\u001b[0m     \u001b[38;5;28;01mraise\u001b[39;00m \u001b[38;5;167;01mValueError\u001b[39;00m(\u001b[38;5;124m'\u001b[39m\u001b[38;5;124mNo USB devices found\u001b[39m\u001b[38;5;124m'\u001b[39m)\n",
      "File \u001b[1;32mw:\\lavoro\\projects\\AIRedgio\\.venv\\Lib\\site-packages\\usb\\core.py:1309\u001b[0m, in \u001b[0;36mfind\u001b[1;34m(find_all, backend, custom_match, **args)\u001b[0m\n\u001b[0;32m   1307\u001b[0m             \u001b[38;5;28;01mbreak\u001b[39;00m\n\u001b[0;32m   1308\u001b[0m     \u001b[38;5;28;01melse\u001b[39;00m:\n\u001b[1;32m-> 1309\u001b[0m         \u001b[38;5;28;01mraise\u001b[39;00m NoBackendError(\u001b[38;5;124m'\u001b[39m\u001b[38;5;124mNo backend available\u001b[39m\u001b[38;5;124m'\u001b[39m)\n\u001b[0;32m   1311\u001b[0m \u001b[38;5;28;01mif\u001b[39;00m find_all:\n\u001b[0;32m   1312\u001b[0m     \u001b[38;5;28;01mreturn\u001b[39;00m device_iter(\u001b[38;5;241m*\u001b[39m\u001b[38;5;241m*\u001b[39margs)\n",
      "\u001b[1;31mNoBackendError\u001b[0m: No backend available"
     ]
    }
   ],
   "source": [
    "import usb.core\n",
    "import usb.util\n",
    "import usb.backend.libusb1\n",
    "\n",
    "# Specify the libusb1 backend\n",
    "backend = usb.backend.libusb1.get_backend()\n",
    "\n",
    "# List USB devices\n",
    "devices = usb.core.find(find_all=True, backend=backend)\n",
    "if devices is None:\n",
    "    raise ValueError('No USB devices found')\n",
    "for device in devices:\n",
    "    print(f'Device: {device.idVendor}:{device.idProduct}')\n"
   ]
  },
  {
   "cell_type": "code",
   "execution_count": 9,
   "metadata": {},
   "outputs": [
    {
     "name": "stdout",
     "output_type": "stream",
     "text": [
      "32902 13549\n",
      "3034 22133\n",
      "1921 21934\n",
      "3315 57353\n",
      "1155 22352\n"
     ]
    }
   ],
   "source": [
    "import usb.core\n",
    "import usb\n",
    "import os\n",
    "from datetime import datetime\n",
    "import sys\n",
    "\n",
    " \n",
    "info = usb.core.show_devices()\n",
    "busses = usb.busses()\n",
    "for bus in busses:\n",
    "    devices = bus.devices\n",
    "    for dev in devices:\n",
    "        print(dev.idVendor, dev.idProduct)\n",
    " \n",
    " \n"
   ]
  },
  {
   "cell_type": "code",
   "execution_count": 4,
   "metadata": {},
   "outputs": [
    {
     "ename": "NoBackendError",
     "evalue": "No backend available",
     "output_type": "error",
     "traceback": [
      "\u001b[1;31m---------------------------------------------------------------------------\u001b[0m",
      "\u001b[1;31mNoBackendError\u001b[0m                            Traceback (most recent call last)",
      "Cell \u001b[1;32mIn[4], line 2\u001b[0m\n\u001b[0;32m      1\u001b[0m \u001b[38;5;66;03m# print(info)\u001b[39;00m\n\u001b[1;32m----> 2\u001b[0m dev: usb\u001b[38;5;241m.\u001b[39mcore\u001b[38;5;241m.\u001b[39mDevice \u001b[38;5;241m=\u001b[39m \u001b[43musb\u001b[49m\u001b[38;5;241;43m.\u001b[39;49m\u001b[43mcore\u001b[49m\u001b[38;5;241;43m.\u001b[39;49m\u001b[43mfind\u001b[49m\u001b[43m(\u001b[49m\u001b[43midVendor\u001b[49m\u001b[38;5;241;43m=\u001b[39;49m\u001b[38;5;241;43m2362\u001b[39;49m\u001b[43m,\u001b[49m\u001b[43m \u001b[49m\u001b[43midProduct\u001b[49m\u001b[38;5;241;43m=\u001b[39;49m\u001b[38;5;241;43m9488\u001b[39;49m\u001b[43m)\u001b[49m\n\u001b[0;32m      3\u001b[0m \u001b[38;5;66;03m# 1155 22352\u001b[39;00m\n\u001b[0;32m      4\u001b[0m dev: usb\u001b[38;5;241m.\u001b[39mcore\u001b[38;5;241m.\u001b[39mDevice \u001b[38;5;241m=\u001b[39m usb\u001b[38;5;241m.\u001b[39mcore\u001b[38;5;241m.\u001b[39mfind(idVendor\u001b[38;5;241m=\u001b[39m\u001b[38;5;241m1155\u001b[39m, idProduct\u001b[38;5;241m=\u001b[39m\u001b[38;5;241m22352\u001b[39m)\n",
      "File \u001b[1;32mw:\\lavoro\\projects\\AIRedgio\\.venv\\Lib\\site-packages\\usb\\core.py:1309\u001b[0m, in \u001b[0;36mfind\u001b[1;34m(find_all, backend, custom_match, **args)\u001b[0m\n\u001b[0;32m   1307\u001b[0m             \u001b[38;5;28;01mbreak\u001b[39;00m\n\u001b[0;32m   1308\u001b[0m     \u001b[38;5;28;01melse\u001b[39;00m:\n\u001b[1;32m-> 1309\u001b[0m         \u001b[38;5;28;01mraise\u001b[39;00m NoBackendError(\u001b[38;5;124m'\u001b[39m\u001b[38;5;124mNo backend available\u001b[39m\u001b[38;5;124m'\u001b[39m)\n\u001b[0;32m   1311\u001b[0m \u001b[38;5;28;01mif\u001b[39;00m find_all:\n\u001b[0;32m   1312\u001b[0m     \u001b[38;5;28;01mreturn\u001b[39;00m device_iter(\u001b[38;5;241m*\u001b[39m\u001b[38;5;241m*\u001b[39margs)\n",
      "\u001b[1;31mNoBackendError\u001b[0m: No backend available"
     ]
    }
   ],
   "source": [
    "# print(info)\n",
    "dev: usb.core.Device = usb.core.find(idVendor=2362, idProduct=9488)\n",
    "# 1155 22352\n",
    "dev: usb.core.Device = usb.core.find(idVendor=1155, idProduct=22352)\n",
    "# print(dev)\n",
    "\n",
    " \n",
    "endpoint = dev[0][(0,0)][0]\n",
    "# dev.read()\n",
    "print(endpoint)\n",
    " \n",
    "data = dev.read(endpoint.bEndpointAddress, endpoint.wMaxPacketSize)\n",
    "print(data)"
   ]
  },
  {
   "cell_type": "code",
   "execution_count": 3,
   "metadata": {},
   "outputs": [
    {
     "ename": "NoBackendError",
     "evalue": "No backend available",
     "output_type": "error",
     "traceback": [
      "\u001b[1;31m---------------------------------------------------------------------------\u001b[0m",
      "\u001b[1;31mNoBackendError\u001b[0m                            Traceback (most recent call last)",
      "Cell \u001b[1;32mIn[3], line 7\u001b[0m\n\u001b[0;32m      5\u001b[0m \u001b[38;5;28;01mimport\u001b[39;00m \u001b[38;5;21;01mnumpy\u001b[39;00m \u001b[38;5;28;01mas\u001b[39;00m \u001b[38;5;21;01mnp\u001b[39;00m\n\u001b[0;32m      6\u001b[0m \u001b[38;5;66;03m# decimal vendor and product values\u001b[39;00m\n\u001b[1;32m----> 7\u001b[0m dev: usb\u001b[38;5;241m.\u001b[39mcore\u001b[38;5;241m.\u001b[39mDevice \u001b[38;5;241m=\u001b[39m \u001b[43musb\u001b[49m\u001b[38;5;241;43m.\u001b[39;49m\u001b[43mcore\u001b[49m\u001b[38;5;241;43m.\u001b[39;49m\u001b[43mfind\u001b[49m\u001b[43m(\u001b[49m\u001b[43midVendor\u001b[49m\u001b[38;5;241;43m=\u001b[39;49m\u001b[38;5;241;43m1155\u001b[39;49m\u001b[43m,\u001b[49m\u001b[43m \u001b[49m\u001b[43midProduct\u001b[49m\u001b[38;5;241;43m=\u001b[39;49m\u001b[38;5;241;43m22352\u001b[39;49m\u001b[43m)\u001b[49m\n\u001b[0;32m      9\u001b[0m \u001b[38;5;66;03m# or, uncomment the next line to search instead by the hexidecimal equivalent\u001b[39;00m\n\u001b[0;32m     10\u001b[0m \u001b[38;5;66;03m#dev = usb.core.find(idVendor=0x45e, idProduct=0x77d)\u001b[39;00m\n\u001b[0;32m     11\u001b[0m \u001b[38;5;66;03m# first endpoint\u001b[39;00m\n\u001b[0;32m     12\u001b[0m interface \u001b[38;5;241m=\u001b[39m \u001b[38;5;241m0\u001b[39m\n",
      "File \u001b[1;32mw:\\lavoro\\projects\\AIRedgio\\.venv\\Lib\\site-packages\\usb\\core.py:1309\u001b[0m, in \u001b[0;36mfind\u001b[1;34m(find_all, backend, custom_match, **args)\u001b[0m\n\u001b[0;32m   1307\u001b[0m             \u001b[38;5;28;01mbreak\u001b[39;00m\n\u001b[0;32m   1308\u001b[0m     \u001b[38;5;28;01melse\u001b[39;00m:\n\u001b[1;32m-> 1309\u001b[0m         \u001b[38;5;28;01mraise\u001b[39;00m NoBackendError(\u001b[38;5;124m'\u001b[39m\u001b[38;5;124mNo backend available\u001b[39m\u001b[38;5;124m'\u001b[39m)\n\u001b[0;32m   1311\u001b[0m \u001b[38;5;28;01mif\u001b[39;00m find_all:\n\u001b[0;32m   1312\u001b[0m     \u001b[38;5;28;01mreturn\u001b[39;00m device_iter(\u001b[38;5;241m*\u001b[39m\u001b[38;5;241m*\u001b[39margs)\n",
      "\u001b[1;31mNoBackendError\u001b[0m: No backend available"
     ]
    }
   ],
   "source": [
    "#!/usr/bin/python\n",
    "import sys\n",
    "import usb.core\n",
    "import usb.util\n",
    "import numpy as np\n",
    "# decimal vendor and product values\n",
    "dev: usb.core.Device = usb.core.find(idVendor=1155, idProduct=22352)\n",
    "\n",
    "# or, uncomment the next line to search instead by the hexidecimal equivalent\n",
    "#dev = usb.core.find(idVendor=0x45e, idProduct=0x77d)\n",
    "# first endpoint\n",
    "interface = 0\n",
    "endpoint = dev[0][(0,0)][0]\n",
    "# if the OS kernel already claimed the device, which is most likely true\n",
    "# thanks to http://stackoverflow.com/questions/8218683/pyusb-cannot-set-configuration\n",
    "\n",
    "collected = 0\n",
    "attempts = 50\n",
    "while collected < attempts :\n",
    "    try:\n",
    "        data = dev.read(endpoint.bEndpointAddress,endpoint.wMaxPacketSize)\n",
    "        collected += 1\n",
    "        array1=data[0:2]\n",
    "\n",
    "        # print(bytes(array1))\n",
    "\n",
    "        numero_intero = int.from_bytes(bytes(array1), byteorder='big')  # Interpreta i byte come intero (big-endian)\n",
    "        print(numero_intero/10)  # Output: 16909060\n",
    "    except usb.core.USBError as e:\n",
    "        data = None\n",
    "        if e.args == ('Operation timed out',):\n",
    "            continue\n",
    "# release the device\n"
   ]
  },
  {
   "cell_type": "code",
   "execution_count": 4,
   "metadata": {},
   "outputs": [
    {
     "ename": "NameError",
     "evalue": "name 'data' is not defined",
     "output_type": "error",
     "traceback": [
      "\u001b[1;31m---------------------------------------------------------------------------\u001b[0m",
      "\u001b[1;31mNameError\u001b[0m                                 Traceback (most recent call last)",
      "Cell \u001b[1;32mIn[4], line 1\u001b[0m\n\u001b[1;32m----> 1\u001b[0m \u001b[38;5;28mprint\u001b[39m(\u001b[43mdata\u001b[49m)\n",
      "\u001b[1;31mNameError\u001b[0m: name 'data' is not defined"
     ]
    }
   ],
   "source": [
    "print(data)"
   ]
  },
  {
   "cell_type": "code",
   "execution_count": 15,
   "metadata": {},
   "outputs": [
    {
     "name": "stdout",
     "output_type": "stream",
     "text": [
      "<class 'int'> <class 'int'> <class 'int'>\n"
     ]
    },
    {
     "data": {
      "text/plain": [
       "array.array"
      ]
     },
     "execution_count": 15,
     "metadata": {},
     "output_type": "execute_result"
    }
   ],
   "source": [
    "a = data[0]\n",
    "b = data[1]\n",
    "c = data[2]\n",
    "\n",
    "print(type(a), type(b), type(c))\n",
    "type(data)"
   ]
  },
  {
   "cell_type": "code",
   "execution_count": 26,
   "metadata": {},
   "outputs": [
    {
     "name": "stdout",
     "output_type": "stream",
     "text": [
      "b'\\x02\\x7f'\n",
      "639\n"
     ]
    }
   ],
   "source": [
    "import array\n",
    "\n",
    "array1 = array.array('B', [0, 0, 255])\n",
    "array1=data[0:2]\n",
    "\n",
    "print(bytes(array1))\n",
    "\n",
    "numero_intero = int.from_bytes(bytes(array1), byteorder='big')  # Interpreta i byte come intero (big-endian)\n",
    "print(numero_intero)  # Output: 16909060"
   ]
  },
  {
   "cell_type": "code",
   "execution_count": 35,
   "metadata": {},
   "outputs": [
    {
     "name": "stdout",
     "output_type": "stream",
     "text": [
      "array('B', [0, 0, 0, 0, 0, 0, 0, 0, 0, 0, 0, 0, 0, 0, 0, 0, 0, 0, 0, 0, 0, 0, 0, 0, 0, 0, 0, 0, 0, 0, 0, 0, 0, 0, 0, 0, 0, 0, 0, 0, 0, 0, 0, 0, 0, 0, 0, 0, 0, 0, 0, 0, 0, 0, 0, 0, 0, 0, 0, 0, 0, 0, 0, 0])\n",
      "0.0\n"
     ]
    }
   ],
   "source": [
    "#!/usr/bin/python\n",
    "import sys\n",
    "import usb.core\n",
    "import usb.util\n",
    "import numpy as np\n",
    "import time\n",
    "# decimal vendor and product values\n",
    "dev: usb.core.Device = usb.core.find(idVendor=1155, idProduct=22352)\n",
    "\n",
    "# or, uncomment the next line to search instead by the hexidecimal equivalent\n",
    "#dev = usb.core.find(idVendor=0x45e, idProduct=0x77d)\n",
    "# first endpoint\n",
    "interface = 0\n",
    "endpoint = dev[0][(0,0)][1]\n",
    "# if the OS kernel already claimed the device, which is most likely true\n",
    "# thanks to http://stackoverflow.com/questions/8218683/pyusb-cannot-set-configuration\n",
    "\n",
    "collected = 0\n",
    "attempts = 1000\n",
    "while True:\n",
    "    with open(\"data.txt\", \"a\") as file:\n",
    "        try:\n",
    "            data = dev.read(endpoint.bEndpointAddress,endpoint.wMaxPacketSize)\n",
    "            collected += 1\n",
    "            array1=data[0:2]\n",
    "            # print(bytes(array1))\n",
    "            print(data)\n",
    "            numero_intero = int.from_bytes(bytes(array1), byteorder='big')  # Interpreta i byte come intero (big-endian)\n",
    "            print(numero_intero/10)  # Output: 16909060\n",
    "            # file.write(numero_intero/10+ \"\\n\")\n",
    "            break\n",
    "        except usb.core.USBError as e:\n",
    "            data = None\n",
    "            if e.args == ('Operation timed out',):\n",
    "                continue\n",
    "        except KeyboardInterrupt:\n",
    "            break\n",
    " \n"
   ]
  },
  {
   "cell_type": "code",
   "execution_count": 44,
   "metadata": {},
   "outputs": [
    {
     "name": "stdout",
     "output_type": "stream",
     "text": [
      "0\n",
      "1\n",
      "2\n",
      "3\n",
      "4\n",
      "5\n",
      "6\n",
      "7\n",
      "8\n",
      "9\n",
      "10\n",
      "11\n",
      "12\n",
      "13\n",
      "14\n",
      "15\n",
      "16\n",
      "17\n",
      "18\n",
      "19\n",
      "20\n",
      "21\n",
      "22\n",
      "23\n",
      "24\n",
      "25\n",
      "26\n",
      "27\n",
      "28\n",
      "29\n",
      "30\n",
      "31\n",
      "32\n",
      "33\n",
      "34\n",
      "35\n",
      "36\n",
      "37\n",
      "38\n",
      "39\n",
      "40\n",
      "41\n",
      "42\n",
      "43\n",
      "44\n",
      "45\n",
      "46\n",
      "47\n",
      "48\n",
      "49\n",
      "50\n",
      "51\n",
      "52\n",
      "53\n",
      "54\n",
      "55\n",
      "56\n",
      "57\n",
      "58\n",
      "59\n",
      "60\n",
      "61\n",
      "62\n",
      "63\n"
     ]
    }
   ],
   "source": [
    "endpoint2 = dev[0][(0,0)][1]\n",
    "# print(endpoint2)\n",
    "payload = [0, 0, 0, 0, 0, 0, 0, 0, 0, 0, 0, 0, 0, 0, 0, 0, 0, 0, 0, 0, 0, 0, 0, 0, 0, 0, 0, 0, 0, 0, 0, 0, 0, 0, 0, 0, 0, 0, 0, 0, 0, 0, 0, 0, 0, 0, 0, 0, 0, 0, 0, 0, 0, 0, 0, 0, 0, 0, 0, 0, 0, 0, 0, 1]\n",
    "for i in range(2**64):\n",
    "    j = np.uint64(i)\n",
    "    py = j.tobytes()\n",
    "    py = payload.copy()\n",
    "    py[i] = 1\n",
    "    dev.write(endpoint2.bEndpointAddress, py)"
   ]
  },
  {
   "cell_type": "code",
   "execution_count": 6,
   "metadata": {},
   "outputs": [],
   "source": [
    "def add(byte_array: array.array, position: int) -> array.array | None:\n",
    "    if position >= len(byte_array):\n",
    "        return None\n",
    "    if (byte_array[position] == 255):\n",
    "        byte_array[position] = 0\n",
    "        return add(byte_array, position)\n",
    "    return byte_array"
   ]
  },
  {
   "cell_type": "code",
   "execution_count": 5,
   "metadata": {},
   "outputs": [],
   "source": [
    "import threading\n",
    "import array\n",
    "import time"
   ]
  },
  {
   "cell_type": "code",
   "execution_count": 7,
   "metadata": {},
   "outputs": [
    {
     "ename": "NoBackendError",
     "evalue": "No backend available",
     "output_type": "error",
     "traceback": [
      "\u001b[1;31m---------------------------------------------------------------------------\u001b[0m",
      "\u001b[1;31mNoBackendError\u001b[0m                            Traceback (most recent call last)",
      "Cell \u001b[1;32mIn[7], line 1\u001b[0m\n\u001b[1;32m----> 1\u001b[0m dev: usb\u001b[38;5;241m.\u001b[39mcore\u001b[38;5;241m.\u001b[39mDevice \u001b[38;5;241m=\u001b[39m \u001b[43musb\u001b[49m\u001b[38;5;241;43m.\u001b[39;49m\u001b[43mcore\u001b[49m\u001b[38;5;241;43m.\u001b[39;49m\u001b[43mfind\u001b[49m\u001b[43m(\u001b[49m\u001b[43midVendor\u001b[49m\u001b[38;5;241;43m=\u001b[39;49m\u001b[38;5;241;43m1155\u001b[39;49m\u001b[43m,\u001b[49m\u001b[43m \u001b[49m\u001b[43midProduct\u001b[49m\u001b[38;5;241;43m=\u001b[39;49m\u001b[38;5;241;43m22352\u001b[39;49m\u001b[43m)\u001b[49m\n\u001b[0;32m      2\u001b[0m endpoint \u001b[38;5;241m=\u001b[39m dev[\u001b[38;5;241m0\u001b[39m][(\u001b[38;5;241m0\u001b[39m,\u001b[38;5;241m0\u001b[39m)][\u001b[38;5;241m0\u001b[39m]\n\u001b[0;32m      3\u001b[0m endpoint2 \u001b[38;5;241m=\u001b[39m dev[\u001b[38;5;241m0\u001b[39m][(\u001b[38;5;241m0\u001b[39m,\u001b[38;5;241m0\u001b[39m)][\u001b[38;5;241m1\u001b[39m]\n",
      "File \u001b[1;32mw:\\lavoro\\projects\\AIRedgio\\.venv\\Lib\\site-packages\\usb\\core.py:1309\u001b[0m, in \u001b[0;36mfind\u001b[1;34m(find_all, backend, custom_match, **args)\u001b[0m\n\u001b[0;32m   1307\u001b[0m             \u001b[38;5;28;01mbreak\u001b[39;00m\n\u001b[0;32m   1308\u001b[0m     \u001b[38;5;28;01melse\u001b[39;00m:\n\u001b[1;32m-> 1309\u001b[0m         \u001b[38;5;28;01mraise\u001b[39;00m NoBackendError(\u001b[38;5;124m'\u001b[39m\u001b[38;5;124mNo backend available\u001b[39m\u001b[38;5;124m'\u001b[39m)\n\u001b[0;32m   1311\u001b[0m \u001b[38;5;28;01mif\u001b[39;00m find_all:\n\u001b[0;32m   1312\u001b[0m     \u001b[38;5;28;01mreturn\u001b[39;00m device_iter(\u001b[38;5;241m*\u001b[39m\u001b[38;5;241m*\u001b[39margs)\n",
      "\u001b[1;31mNoBackendError\u001b[0m: No backend available"
     ]
    }
   ],
   "source": [
    "dev: usb.core.Device = usb.core.find(idVendor=1155, idProduct=22352)\n",
    "endpoint = dev[0][(0,0)][0]\n",
    "endpoint2 = dev[0][(0,0)][1]\n",
    "init = [0 for i in range(64)]\n",
    "init[0] = 179\n",
    "payload = array.array('B', init)\n",
    "c = 0\n",
    "for i in range(100):\n",
    "    c += 1\n",
    "    payload = add(payload, 0)\n",
    "    # print(payload)\n",
    "    \n",
    "\n",
    "    dev.write(endpoint2.bEndpointAddress, payload)\n",
    "    data = dev.read(endpoint.bEndpointAddress,endpoint.wMaxPacketSize)\n",
    "    \n",
    "    array1=data[0:2]\n",
    "    numero_intero = int.from_bytes(bytes(array1), byteorder='big')  # Interpreta i byte come intero (big-endian)\n",
    "\n",
    "    print(numero_intero/10)  # Output: 16909060\n",
    "    # time.sleep(1)\n",
    "    \n",
    "\n",
    "    # print(payload[0], datetime.fromtimestamp(time.time()))\n",
    "    "
   ]
  },
  {
   "cell_type": "code",
   "execution_count": 52,
   "metadata": {},
   "outputs": [
    {
     "data": {
      "text/plain": [
       "array('B', [40, 1, 0, 0, 0, 0, 0, 0, 0, 0, 0, 0, 0, 0, 0, 0, 0, 0, 0, 0, 0, 0, 0, 0, 0, 0, 0, 0, 0, 0, 0, 0, 0, 0, 0, 0, 0, 0, 0, 0, 0, 0, 0, 0, 0, 0, 0, 0, 0, 0, 0, 0, 0, 0, 0, 0, 0, 0, 0, 0, 0, 0, 0, 0])"
      ]
     },
     "execution_count": 52,
     "metadata": {},
     "output_type": "execute_result"
    }
   ],
   "source": [
    "payload"
   ]
  },
  {
   "cell_type": "code",
   "execution_count": 58,
   "metadata": {},
   "outputs": [
    {
     "data": {
      "text/plain": [
       "293"
      ]
     },
     "execution_count": 58,
     "metadata": {},
     "output_type": "execute_result"
    }
   ],
   "source": [
    "i"
   ]
  },
  {
   "cell_type": "code",
   "execution_count": 8,
   "metadata": {},
   "outputs": [
    {
     "data": {
      "text/plain": [
       "datetime.datetime(2024, 4, 5, 16, 4, 21, 71092)"
      ]
     },
     "execution_count": 8,
     "metadata": {},
     "output_type": "execute_result"
    }
   ],
   "source": [
    "# time.time to get the current time in seconds since the epoch\n",
    "from datetime import datetime\n",
    "datetime.fromtimestamp(1712325861.0710921)"
   ]
  }
 ],
 "metadata": {
  "kernelspec": {
   "display_name": ".venv",
   "language": "python",
   "name": "python3"
  },
  "language_info": {
   "codemirror_mode": {
    "name": "ipython",
    "version": 3
   },
   "file_extension": ".py",
   "mimetype": "text/x-python",
   "name": "python",
   "nbconvert_exporter": "python",
   "pygments_lexer": "ipython3",
   "version": "3.11.9"
  }
 },
 "nbformat": 4,
 "nbformat_minor": 2
}
